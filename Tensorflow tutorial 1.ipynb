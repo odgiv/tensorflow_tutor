{
 "cells": [
  {
   "cell_type": "markdown",
   "metadata": {},
   "source": [
    "<h2>Tensorflow tutorial</h2> for beginners"
   ]
  },
  {
   "cell_type": "code",
   "execution_count": 1,
   "metadata": {
    "collapsed": true
   },
   "outputs": [],
   "source": [
    "import tensorflow as tf"
   ]
  },
  {
   "cell_type": "markdown",
   "metadata": {},
   "source": [
    "Tensorflow variables"
   ]
  },
  {
   "cell_type": "code",
   "execution_count": 2,
   "metadata": {},
   "outputs": [
    {
     "name": "stdout",
     "output_type": "stream",
     "text": [
      "[[ 1.  1.]\n",
      " [ 1.  1.]]\n",
      "[[ 0.  0.]\n",
      " [ 0.  0.]]\n",
      "[[ 0.93717605  0.96926367]\n",
      " [ 0.34516105 -1.81826127]]\n"
     ]
    }
   ],
   "source": [
    "W1 = tf.ones((2,2)) # This one is not a variable\n",
    "W2 = tf.Variable(tf.zeros((2, 2)), name=\"weights\")\n",
    "W3 = tf.Variable(tf.random_normal((2,2)), name=\"random_weights\")\n",
    "\n",
    "with tf.Session() as sess:\n",
    "    print(sess.run(W1))\n",
    "    # Tensorflow variables must be initialized before they have values!\n",
    "    sess.run(tf.global_variables_initializer())\n",
    "    print(sess.run(W2))\n",
    "    print(sess.run(W3))"
   ]
  },
  {
   "cell_type": "markdown",
   "metadata": {},
   "source": [
    "Updating variable state"
   ]
  },
  {
   "cell_type": "code",
   "execution_count": 3,
   "metadata": {},
   "outputs": [
    {
     "name": "stdout",
     "output_type": "stream",
     "text": [
      "0\n",
      "1\n",
      "2\n",
      "3\n",
      "2\n",
      "2\n",
      "2\n",
      "2\n"
     ]
    }
   ],
   "source": [
    "state = tf.Variable(0, name=\"counter\")\n",
    "new_value = tf.add(state, tf.constant(1)) # new_value = state + 1\n",
    "update = tf.assign(state, new_value) # state = new_value\n",
    "\n",
    "# without assign operation, we cannot update new_state's value.\n",
    "# For example: inside the second for loop, we must assign new value to the\n",
    "# new_state variable so that in every loop new_state variable will have \n",
    "# a new value.\n",
    "new_state = tf.Variable(3, name=\"decounter\")\n",
    "new_state = tf.subtract(new_state, tf.constant(1))\n",
    "\n",
    "with tf.Session() as sess:\n",
    "    sess.run(tf.global_variables_initializer())\n",
    "    print(sess.run(state))\n",
    "    for _ in range(3):\n",
    "        sess.run(update)\n",
    "        print(sess.run(state))\n",
    "        \n",
    "    print(sess.run(new_state))    \n",
    "    for _ in range(3):\n",
    "        print(sess.run(new_state))                "
   ]
  },
  {
   "cell_type": "markdown",
   "metadata": {},
   "source": [
    "Fetching variable state"
   ]
  },
  {
   "cell_type": "code",
   "execution_count": 4,
   "metadata": {},
   "outputs": [
    {
     "name": "stdout",
     "output_type": "stream",
     "text": [
      "[21.0, 7.0]\n"
     ]
    }
   ],
   "source": [
    "input1 = tf.constant(3.0)\n",
    "input2 = tf.constant(2.0)\n",
    "input3 = tf.constant(5.0)\n",
    "intermed = tf.add(input2, input3)\n",
    "mul = tf.multiply(input1, intermed)\n",
    "with tf.Session() as sess:\n",
    "    # Calling sess.run(var) on a tf.Session() object\n",
    "    # retrieves its value. Can retrieve multiple \n",
    "    # variables simulaneously with sess.run([var1, var2])    \n",
    "    result = sess.run([mul, intermed])\n",
    "    print(result)\n"
   ]
  },
  {
   "cell_type": "markdown",
   "metadata": {},
   "source": [
    "Inputting data"
   ]
  },
  {
   "cell_type": "code",
   "execution_count": 5,
   "metadata": {},
   "outputs": [
    {
     "name": "stdout",
     "output_type": "stream",
     "text": [
      "[[ 0.  0.  0.]\n",
      " [ 0.  0.  0.]\n",
      " [ 0.  0.  0.]]\n"
     ]
    }
   ],
   "source": [
    "import numpy as np\n",
    "\n",
    "a = np.zeros((3,3))\n",
    "ta = tf.convert_to_tensor(a)\n",
    "with tf.Session() as sess:\n",
    "    print(sess.run(ta))"
   ]
  },
  {
   "cell_type": "markdown",
   "metadata": {},
   "source": [
    "Inputting data with tf.convert_to_tensor() is convenient, but doesn't scale.\n",
    "Use tf.placeholder variables (dummy nodes that provide entry points for data to computational graph). \n",
    "A feed_dict is a python dictionary mapping from tf.placeholder vars (on their names) to data (numpy arrays, lists,..)."
   ]
  },
  {
   "cell_type": "code",
   "execution_count": 6,
   "metadata": {},
   "outputs": [
    {
     "name": "stdout",
     "output_type": "stream",
     "text": [
      "[array([ 14.], dtype=float32)]\n"
     ]
    }
   ],
   "source": [
    "input1 = tf.placeholder(tf.float32)\n",
    "input2 = tf.placeholder(tf.float32)\n",
    "output = tf.multiply(input1, input2)\n",
    "\n",
    "with tf.Session() as sess:\n",
    "    print(sess.run([output], feed_dict={input1:[7.], input2:[2.]}))"
   ]
  },
  {
   "cell_type": "markdown",
   "metadata": {},
   "source": [
    "Complicated Tensorflow models can have hundreds of variables.\n",
    "<ul>\n",
    "<li> tf.variable_scope() provides simple name-spacing to avoid clashes.</li>\n",
    "<li> tf.get_variable() creates/accesses variables from within a variable\n",
    "scope.</li>\n",
    "<li> Variable scope is a simple type of namespacing that adds prefixes to variable names within scope.</li>\n",
    "</ul>"
   ]
  },
  {
   "cell_type": "code",
   "execution_count": 7,
   "metadata": {},
   "outputs": [
    {
     "name": "stdout",
     "output_type": "stream",
     "text": [
      "<tf.Variable 'foo/bar/c:0' shape=(1,) dtype=float32_ref>\n"
     ]
    }
   ],
   "source": [
    "with tf.variable_scope(\"foo\"):\n",
    "    with tf.variable_scope(\"bar\"):\n",
    "        c = tf.get_variable(\"c\", [1])        \n",
    "print(c)\n",
    "assert c.name == \"foo/bar/c:0\""
   ]
  },
  {
   "cell_type": "markdown",
   "metadata": {},
   "source": [
    "<ul>\n",
    "<li> Variable scope controls variable (re)use.</li>\n",
    "</ul>"
   ]
  },
  {
   "cell_type": "code",
   "execution_count": 8,
   "metadata": {},
   "outputs": [],
   "source": [
    "with tf.variable_scope(\"foo\"):    \n",
    "    # Here it will define a new variable \"v\". \n",
    "    # If the variable v is already defined, there will be an error.\n",
    "    v = tf.get_variable(\"v\", [1]) \n",
    "    tf.get_variable_scope().reuse_variables()\n",
    "    v1 = tf.get_variable(\"v\", [1])\n",
    "\n",
    "assert v1 == v"
   ]
  },
  {
   "cell_type": "markdown",
   "metadata": {},
   "source": [
    "Understanding get_variable()."
   ]
  },
  {
   "cell_type": "code",
   "execution_count": 9,
   "metadata": {},
   "outputs": [],
   "source": [
    "with tf.variable_scope(\"koo\"):\n",
    "    # Create and return new variable if not existed.\n",
    "    v = tf.get_variable(\"v\", [1]) \n",
    "with tf.variable_scope(\"koo\", reuse=True):\n",
    "    # Search for existing variable with given name. \n",
    "    # Raise ValueError if none found\n",
    "    v1 = tf.get_variable(\"v\", [1])\n",
    "        \n",
    "assert v1 == v"
   ]
  },
  {
   "cell_type": "code",
   "execution_count": null,
   "metadata": {
    "collapsed": true
   },
   "outputs": [],
   "source": []
  }
 ],
 "metadata": {
  "kernelspec": {
   "display_name": "Python 3",
   "language": "python",
   "name": "python3"
  },
  "language_info": {
   "codemirror_mode": {
    "name": "ipython",
    "version": 3
   },
   "file_extension": ".py",
   "mimetype": "text/x-python",
   "name": "python",
   "nbconvert_exporter": "python",
   "pygments_lexer": "ipython3",
   "version": "3.5.3"
  }
 },
 "nbformat": 4,
 "nbformat_minor": 2
}
